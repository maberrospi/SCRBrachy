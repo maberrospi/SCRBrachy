{
 "cells": [
  {
   "cell_type": "markdown",
   "id": "39702ab7-a9cf-4d61-b2a5-f0952db18ffe",
   "metadata": {},
   "source": [
    "# Early Stopping Test"
   ]
  },
  {
   "cell_type": "code",
   "execution_count": 18,
   "id": "5a420fef-1e63-489e-b595-46586f87832d",
   "metadata": {},
   "outputs": [],
   "source": [
    "class EarlyStopping:\n",
    "    def __init__(self,patience = 2, min_delta=0):\n",
    "        self.patience = patience\n",
    "        self.min_delta = min_delta\n",
    "        self.min_loss = float(\"inf\")\n",
    "        self.counter = 0\n",
    "        #self.early_stop = False\n",
    "\n",
    "    def early_stop(self, val_loss):\n",
    "        if val_loss < self.min_loss:\n",
    "            self.min_loss = val_loss\n",
    "            self.counter = 0\n",
    "        elif val_loss > (self.min_loss + self.min_delta):\n",
    "            self.counter += 1\n",
    "            if self.counter > self.patience:\n",
    "                return True#self.early_stop = True\n",
    "        return False#self.early_stop = False"
   ]
  },
  {
   "cell_type": "code",
   "execution_count": 36,
   "id": "6bbb8480-fd6d-4dd1-bd5e-d31037daa106",
   "metadata": {},
   "outputs": [],
   "source": [
    "early_stopper = EarlyStopping(patience=2, min_delta=0)\n",
    "epoch = 0"
   ]
  },
  {
   "cell_type": "code",
   "execution_count": 40,
   "id": "39408b04-603a-4a8d-acef-6f736693626c",
   "metadata": {},
   "outputs": [
    {
     "name": "stdout",
     "output_type": "stream",
     "text": [
      "Early stop of training at epoch 4\n"
     ]
    }
   ],
   "source": [
    "#early_stopper(1)\n",
    "epoch += 1\n",
    "if early_stopper.early_stop(4):\n",
    "    print(f'Early stop of training at epoch {epoch}')\n",
    "else:\n",
    "    print('Still going')"
   ]
  },
  {
   "cell_type": "markdown",
   "id": "3fd6f5c6-8f91-44c2-920b-f9f3b3bfe597",
   "metadata": {},
   "source": [
    "# Testing PIL"
   ]
  },
  {
   "cell_type": "code",
   "execution_count": 58,
   "id": "b0b59b31-f43f-44f6-818b-ab3c47ffd836",
   "metadata": {},
   "outputs": [
    {
     "ename": "ModuleNotFoundError",
     "evalue": "No module named 'torch'",
     "output_type": "error",
     "traceback": [
      "\u001b[0;31m---------------------------------------------------------------------------\u001b[0m",
      "\u001b[0;31mModuleNotFoundError\u001b[0m                       Traceback (most recent call last)",
      "Cell \u001b[0;32mIn[58], line 2\u001b[0m\n\u001b[1;32m      1\u001b[0m \u001b[38;5;28;01mfrom\u001b[39;00m \u001b[38;5;21;01mPIL\u001b[39;00m \u001b[38;5;28;01mimport\u001b[39;00m Image\n\u001b[0;32m----> 2\u001b[0m \u001b[38;5;28;01mimport\u001b[39;00m \u001b[38;5;21;01mtorch\u001b[39;00m\n\u001b[1;32m      3\u001b[0m path \u001b[38;5;241m=\u001b[39m \u001b[38;5;124m\"\u001b[39m\u001b[38;5;124m/home/ERASMUSMC/099035/Documents/CTimages/CT0_0.png\u001b[39m\u001b[38;5;124m\"\u001b[39m\n\u001b[1;32m      4\u001b[0m img \u001b[38;5;241m=\u001b[39m Image\u001b[38;5;241m.\u001b[39mopen(path)\n",
      "\u001b[0;31mModuleNotFoundError\u001b[0m: No module named 'torch'"
     ]
    }
   ],
   "source": [
    "from PIL import Image\n",
    "import torch\n",
    "path = \"/home/ERASMUSMC/099035/Documents/CTimages/CT0_0.png\"\n",
    "img = Image.open(path)\n",
    "img_torch = torch.as_tensor(img)\n",
    "img_torch.shape"
   ]
  },
  {
   "cell_type": "code",
   "execution_count": null,
   "id": "fbb215ec-853b-4f01-bfec-79e41c704244",
   "metadata": {},
   "outputs": [],
   "source": []
  }
 ],
 "metadata": {
  "kernelspec": {
   "display_name": "Python 3 (ipykernel)",
   "language": "python",
   "name": "python3"
  },
  "language_info": {
   "codemirror_mode": {
    "name": "ipython",
    "version": 3
   },
   "file_extension": ".py",
   "mimetype": "text/x-python",
   "name": "python",
   "nbconvert_exporter": "python",
   "pygments_lexer": "ipython3",
   "version": "3.9.18"
  }
 },
 "nbformat": 4,
 "nbformat_minor": 5
}
